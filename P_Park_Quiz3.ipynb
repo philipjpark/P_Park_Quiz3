{
  "nbformat": 4,
  "nbformat_minor": 0,
  "metadata": {
    "colab": {
      "name": "P_Park_Quiz3.ipynb",
      "provenance": [],
      "authorship_tag": "ABX9TyMkdexMNhwqSUoVf+9Pj2VH",
      "include_colab_link": true
    },
    "kernelspec": {
      "name": "python3",
      "display_name": "Python 3"
    },
    "language_info": {
      "name": "python"
    }
  },
  "cells": [
    {
      "cell_type": "markdown",
      "metadata": {
        "id": "view-in-github",
        "colab_type": "text"
      },
      "source": [
        "<a href=\"https://colab.research.google.com/github/philipjpark/P_Park_Quiz3/blob/main/P_Park_Quiz3.ipynb\" target=\"_parent\"><img src=\"https://colab.research.google.com/assets/colab-badge.svg\" alt=\"Open In Colab\"/></a>"
      ]
    },
    {
      "cell_type": "markdown",
      "source": [
        "# Cleaning Messy Data: The Exploration of Wine#"
      ],
      "metadata": {
        "id": "NLC56Ae3KhgL"
      }
    },
    {
      "cell_type": "markdown",
      "source": [
        "## Part 1: Introduction ##\n",
        "\n",
        "Wine is a \"simple\" alcoholic drink that is made from fermented grape juice enjoyed by hundred of millions of people across the world. The oldest known winery dates back to 4100 BCE in what is now known as the country of Armenia.\n",
        "\n",
        "(Please refer to : https://vinepair.com/wine-colonized-world-wine-history/) \n",
        "\n",
        "Although wine is considered \"simple\"; the nuances, subtleties, and techniques involved can add value to specific, well-crafted bottles. Fine wine appreciates in value; while inferior wine depreciates over time. This exploration will dive into the chemical composition of wine and to clean this robust dataset, in order for it to be better suited for analysis. Ultimately, the cleaning of the data will allow for better usability. This usability can illuminate distinguishing traits of wine that add significant value, and other components that contribute nominally.     \n",
        "\n",
        "**Statement of the Problem:** This EDA seeks to address the following issues:\n",
        "1. Which, if any of the individual attributes need to be transformed prior to being used within a machine learning model. \n",
        "2. Justify the inclusion, modification or outright deletion of a specific data attribute.\n",
        "3. Preliminary findings on what attributes carry more weight or value in a study on the valuation of wine. \n",
        "\n",
        "\n",
        "## Part 2: Data Summary ##\n",
        "\n",
        "The wine dataset contains 16 attributes: \n",
        "\n",
        "- **Index:** Unique ID\n",
        "- **TARGET:** Response Variable (indicates the # of cases of wine sold)\n",
        "- **Fixed Acidity:** The fixed acidity of the wine. \n",
        "- **Volatile Acidity:** Volatile acid content of the various wines. \n",
        "- **Citric Acid:** Citric Acid content of the wine.\n",
        "- **Density:** Density of the wine\n",
        "- **Residual Sugar:** Residual sugar content of the wine. \n",
        "- **Chlorides:** Chloride content of the wine.\n",
        "- **Free Sulfur Dioxide:** Sulfur Dioxide content of the wine. \n",
        "- **Total Sulfur Dioxide:** Total Sulfur Dioxide content of the wine.\n",
        "- **Density:** The density of the wine.\n",
        "- **pH:** pH of the wine\n",
        "- **Sulphates:** Sulfate content of the wine. \n",
        "- **Alcohol:** Alcohol Contentby Percentage\n",
        "-**Label Appeal:** A subjective marketing score that ranks the appeal and aesthetic of the bottle. \n",
        "- **Acid Index:** Measures the total acidity of wine via a weighted average. \n",
        "- **STARS:** Wine rating administered by experts in the field (4 = Excellent, 3 = Very Good, 2 = Good, 1 = Poor)\n",
        "\n",
        "The vast set of attributes can lead to convoluted data analysis and so it is imperative that if there is superfluous data points; namely outliers, we need to handle them. Another issue might be that data saturation will make it diffcult to parse what attributes carry a lot of weight and which ones do not. "
      ],
      "metadata": {
        "id": "dQdoIVzZKfPZ"
      }
    },
    {
      "cell_type": "markdown",
      "source": [
        "#Exploratory Data Analysis#"
      ],
      "metadata": {
        "id": "1DHmKBcO7B16"
      }
    },
    {
      "cell_type": "markdown",
      "source": [
        "**Synopsis of Wine Attributes**:\n",
        "\n",
        "Here is a brief synopsis of each attribute's significance to the overall composition of wine.\n",
        "\n",
        "1 - Fixed acidity (g/l): Most acids involved with wine are fixed or nonvolatile (do not evaporate readily).\n",
        "\n",
        "2 - Volatile acidity (g/l): The amount of acetic acid in wine, which at too high of levels can lead to an unappealing odor.\n",
        "\n",
        "3 - Citric Acid (g/l): Found in small quantities, citric acid can add a zesty flavor and create crispness of flavor. \n",
        "\n",
        "4 - Residual sugar (g/l): The amount of sugar remaining after fermentation stops, it’s rare to find wines with less than 1 gram/liter. and wines with greater than 35 grams/liter are considered sweet\n",
        "\n",
        "5 - Chlorides(g/l): The amount of salinity in wine. \n",
        "\n",
        "6 - Free sulfur dioxide (ppm): Prevents microbial growth and reduces oxidation.\n",
        "\n",
        "7 - Total sulfur dioxide (ppm): Amount of free and bound forms of Sulfur Dioxide; in low concentrations, Sulfur Dioxide is mostly undetectable in wine. When Sulfur Dioxide concentrations go over 50 ppm, it becomes detectable to a wine-taster's sense of smell and taste. \n",
        "\n",
        "8 - Density (g/cubic cm): The density of water is close to that of water depending on the percent of sugar and alcohol content. \n",
        "\n",
        "9 - pH: Describes how acidic or basic a wine is on a scale from 0 (very acidic) to 14 (very basic); Most wines have a pH ranging from 3-4. \n",
        "\n",
        "10 - Sulphates (ppm): A wine additive which can contribute to sulfur dioxide gas levels, wich acts as a deterrent to microbes and oxidation. \n",
        "\n",
        "11 - Alcohol (%): Percent of alcohol contained in the wine. \n",
        "\n",
        "Here is a list of **resources** that I used (Paratheticals refer to the attribute):\n",
        "\n",
        "https://www.winemag.com/2021/11/09/volatile-acidity-wine/ (Volatile Acidity)\n",
        "\n",
        "https://winemakersacademy.com/understanding-wine-acidity/ (Fixed Acidity)\n",
        "\n",
        "https://daily.sevenfifty.com/the-science-of-salinity-in-wine/ (Chlorides)\n",
        "\n",
        "https://winefolly.com/deep-dive/what-is-residual-sugar-in-wine/ (Residual Sugar)\n",
        "\n",
        "https://www.randoxfood.com/why-is-testing-for-citric-acid-important-in-winemaking/#:~:text=Citric%20acid%20is%20one%20of,total%20acid%20content%20in%20grapes.(Citric Acid)\n",
        "\n",
        "https://www.wineshopathome.com/understanding-sulfur-levels-wine/ (Free and Total Sulfur Dioxide)\n",
        "\n",
        "http://www.creativeconnoisseur.com/newsletter/files/497deafe6be1b2efc87df8ac6071e459-162.html#:~:text=Quite%20obviously%20the%20density%20of,9%25%20more%20dense%20than%20water. (Density)\n",
        "\n",
        "https://winefolly.com/deep-dive/understanding-acidity-in-wine/ (Acid Index)\n",
        "\n",
        "https://winefolly.com/deep-dive/sulfites-in-wine/ (Sulphates)\n",
        "\n",
        "https://winefolly.com/tips/the-lightest-to-the-strongest-wine/ (Alcohol)\n",
        "\n",
        "https://www.bluelabelpackaging.com/blog/what-makes-appealing-wine-label/ (Wine Label)\n",
        "\n",
        "For the purpose of this project, a separate subset of attributes has been created. \n",
        "\n",
        "<u>Quantitative data</u> includes: Fixed acidity, volatile acidity, citric acid, residual sugar, chlorides, free sulfure dioxide, total sulfur dioxide, density, pH, sulphates, acid index and alcohol.\n",
        "\n",
        "The <u>categorical data</u> includes: STARS, TARGET, and Label Appeal."
      ],
      "metadata": {
        "id": "p4JEYJLlnsbs"
      }
    },
    {
      "cell_type": "markdown",
      "source": [
        "##Initializing the Data##\n",
        "\n",
        "First, I created a data variable using the pd.read_cvs().\n",
        "Then, I outputted some initial information with the .head, .tail, and .shape method. "
      ],
      "metadata": {
        "id": "VPn-yCJ-RpUS"
      }
    },
    {
      "cell_type": "code",
      "execution_count": null,
      "metadata": {
        "colab": {
          "base_uri": "https://localhost:8080/"
        },
        "id": "rkjvMeOKSnSW",
        "outputId": "3647949b-4d3b-4794-9425-816a716b2be5"
      },
      "outputs": [
        {
          "output_type": "stream",
          "name": "stdout",
          "text": [
            "   INDEX  TARGET  FixedAcidity  VolatileAcidity  CitricAcid  ResidualSugar  \\\n",
            "0      1       3           3.2            1.160       -0.98           54.2   \n",
            "1      2       3           4.5            0.160       -0.81           26.1   \n",
            "2      4       5           7.1            2.640       -0.88           14.8   \n",
            "3      5       3           5.7            0.385        0.04           18.8   \n",
            "4      6       4           8.0            0.330       -1.26            9.4   \n",
            "\n",
            "   Chlorides  FreeSulfurDioxide  TotalSulfurDioxide  Density    pH  Sulphates  \\\n",
            "0     -0.567                NaN               268.0  0.99280  3.33      -0.59   \n",
            "1     -0.425               15.0              -327.0  1.02792  3.38       0.70   \n",
            "2      0.037              214.0               142.0  0.99518  3.12       0.48   \n",
            "3     -0.425               22.0               115.0  0.99640  2.24       1.83   \n",
            "4        NaN             -167.0               108.0  0.99457  3.12       1.77   \n",
            "\n",
            "   Alcohol  LabelAppeal  AcidIndex  STARS  \n",
            "0      9.9            0          8    2.0  \n",
            "1      NaN           -1          7    3.0  \n",
            "2     22.0           -1          8    3.0  \n",
            "3      6.2           -1          6    1.0  \n",
            "4     13.7            0          9    2.0  \n",
            "       INDEX  TARGET  FixedAcidity  VolatileAcidity  CitricAcid  \\\n",
            "12790  16120       0           5.0            -0.79        2.01   \n",
            "12791  16123       5           8.9             0.47        0.29   \n",
            "12792  16127       4           6.0             0.17       -1.10   \n",
            "12793  16128       3           7.7             0.32        0.12   \n",
            "12794  16129       4           5.2            -0.04       -0.81   \n",
            "\n",
            "       ResidualSugar  Chlorides  FreeSulfurDioxide  TotalSulfurDioxide  \\\n",
            "12790            5.0      0.043               17.0               101.0   \n",
            "12791           84.9      0.259               54.0                 NaN   \n",
            "12792           37.0      0.078               25.0               108.0   \n",
            "12793            NaN      0.029               26.0               274.0   \n",
            "12794           52.7        NaN             -106.0               242.0   \n",
            "\n",
            "       Density    pH  Sulphates  Alcohol  LabelAppeal  AcidIndex  STARS  \n",
            "12790  1.01077  3.39       0.57      4.9            1          5    NaN  \n",
            "12791  0.99518  4.46      -1.20      NaN           -1          8    2.0  \n",
            "12792  0.99076  3.25        NaN     12.3            0          6    2.0  \n",
            "12793  0.99060  3.97       0.62     11.0           -1          6    2.0  \n",
            "12794  0.99454  3.94      -0.12      9.9            0          7    2.0  \n",
            "(12795, 16)\n"
          ]
        }
      ],
      "source": [
        "import pandas as pd\n",
        "import numpy as np\n",
        "import matplotlib.pyplot as plt\n",
        "import seaborn as sns\n",
        "\n",
        "data = pd.read_csv(\"https://raw.githubusercontent.com/MatthewFried/Udemy/master/Day2/Day2_Data.csv\")\n",
        "\n",
        "saved_data = data.copy()\n",
        "print(data.head())\n",
        "print(data.tail())\n",
        "print(data.shape)\n"
      ]
    },
    {
      "cell_type": "markdown",
      "source": [
        "Next, I sorted the data to get a better look at the attributes and the null values to help filter out data points that need to be dealt with. \n"
      ],
      "metadata": {
        "id": "gOSLlTjWVD_9"
      }
    },
    {
      "cell_type": "code",
      "source": [
        "s_data = data.isnull().sum().sort_values(ascending=False)\n",
        "print(s_data)"
      ],
      "metadata": {
        "colab": {
          "base_uri": "https://localhost:8080/"
        },
        "id": "qrw8--AoVFk9",
        "outputId": "c53b7cec-36d4-4710-813d-9d66abb384b3"
      },
      "execution_count": null,
      "outputs": [
        {
          "output_type": "stream",
          "name": "stdout",
          "text": [
            "STARS                 3359\n",
            "Sulphates             1210\n",
            "TotalSulfurDioxide     682\n",
            "Alcohol                653\n",
            "FreeSulfurDioxide      647\n",
            "Chlorides              638\n",
            "ResidualSugar          616\n",
            "pH                     395\n",
            "INDEX                    0\n",
            "TARGET                   0\n",
            "FixedAcidity             0\n",
            "VolatileAcidity          0\n",
            "CitricAcid               0\n",
            "Density                  0\n",
            "LabelAppeal              0\n",
            "AcidIndex                0\n",
            "dtype: int64\n"
          ]
        }
      ]
    },
    {
      "cell_type": "markdown",
      "source": [
        "Then, I created a ratio of null values to the total number of wines in the dataset. "
      ],
      "metadata": {
        "id": "h1d2mmv2ViLA"
      }
    },
    {
      "cell_type": "code",
      "source": [
        "p_data = s_data/data.shape[0]\n",
        "print(p_data)"
      ],
      "metadata": {
        "colab": {
          "base_uri": "https://localhost:8080/"
        },
        "id": "oOsKf4FFVk-A",
        "outputId": "d5e97875-080a-43f0-8927-7ab950eba51d"
      },
      "execution_count": null,
      "outputs": [
        {
          "output_type": "stream",
          "name": "stdout",
          "text": [
            "STARS                 0.262524\n",
            "Sulphates             0.094568\n",
            "TotalSulfurDioxide    0.053302\n",
            "Alcohol               0.051036\n",
            "FreeSulfurDioxide     0.050567\n",
            "Chlorides             0.049863\n",
            "ResidualSugar         0.048144\n",
            "pH                    0.030871\n",
            "INDEX                 0.000000\n",
            "TARGET                0.000000\n",
            "FixedAcidity          0.000000\n",
            "VolatileAcidity       0.000000\n",
            "CitricAcid            0.000000\n",
            "Density               0.000000\n",
            "LabelAppeal           0.000000\n",
            "AcidIndex             0.000000\n",
            "dtype: float64\n"
          ]
        }
      ]
    },
    {
      "cell_type": "markdown",
      "source": [
        "Secondly, I used the **describe** method which outputs the following relevant metrics:\n",
        "1. count - Number of not-empty values.\n",
        "2. mean - Average\n",
        "3. std - The standard deviation.\n",
        "4. min - Minimum value.\n",
        "5. 25% - The 25% percentile.\n",
        "6. 50% - The 50% percentile.\n",
        "7. 75% - The 75% percentile.\n",
        "8. max - Maximum value.\n",
        "\n",
        "Some preliminary takeaways:\n",
        "\n",
        "Fixed Acidity has a very high max because at 75% it is 9.5 and the max is 34.4 g/l. Also the min is a negative which needs to be removed. \n",
        "\n",
        "Volatile Acidity and Citric Acidity seems to have a max leaning towards the high side. Any values under 0 for the fixed acidity, volatile acidity, citric acid, residual sugar, free sulfur dioxide, sulphates, alcohol and total dioxide has to be removed. \n",
        "\n",
        "The max for residual sugar is way too high as well. A wine is considered sweet if its sugar content is greater than 35 mL. The max of the Free Sulfur Dioxide is too high and should be pared down to the STD of approximately 150. Total Sulfur Dioxide, as well, should be greater than 0. \n",
        "\n",
        "For a better understanding of residual sugar levels, please refer to: https://whicherridge.com.au/blog/what-is-residual-sugar-in-wine/#:~:text=It%20is%20impossible%20to%20get,0.3%20to%202%20g%2FL."
      ],
      "metadata": {
        "id": "aXthQwrVSVMw"
      }
    },
    {
      "cell_type": "code",
      "source": [
        "showData = data.describe()\n",
        "showData.transpose()\n"
      ],
      "metadata": {
        "colab": {
          "base_uri": "https://localhost:8080/",
          "height": 551
        },
        "id": "U_oDGT6hSX6T",
        "outputId": "497ce97c-a2b5-4d42-c54f-16f7e2b7ed2c"
      },
      "execution_count": null,
      "outputs": [
        {
          "output_type": "execute_result",
          "data": {
            "text/plain": [
              "                      count         mean          std        min         25%  \\\n",
              "INDEX               12795.0  8069.980305  4656.905107    1.00000  4037.50000   \n",
              "TARGET              12795.0     3.029074     1.926368    0.00000     2.00000   \n",
              "FixedAcidity        12795.0     7.075717     6.317643  -18.10000     5.20000   \n",
              "VolatileAcidity     12795.0     0.324104     0.784014   -2.79000     0.13000   \n",
              "CitricAcid          12795.0     0.308413     0.862080   -3.24000     0.03000   \n",
              "ResidualSugar       12179.0     5.418733    33.749379 -127.80000    -2.00000   \n",
              "Chlorides           12157.0     0.054822     0.318467   -1.17100    -0.03100   \n",
              "FreeSulfurDioxide   12148.0    30.845571   148.714558 -555.00000     0.00000   \n",
              "TotalSulfurDioxide  12113.0   120.714233   231.913211 -823.00000    27.00000   \n",
              "Density             12795.0     0.994203     0.026538    0.88809     0.98772   \n",
              "pH                  12400.0     3.207628     0.679687    0.48000     2.96000   \n",
              "Sulphates           11585.0     0.527112     0.932129   -3.13000     0.28000   \n",
              "Alcohol             12142.0    10.489236     3.727819   -4.70000     9.00000   \n",
              "LabelAppeal         12795.0    -0.009066     0.891089   -2.00000    -1.00000   \n",
              "AcidIndex           12795.0     7.772724     1.323926    4.00000     7.00000   \n",
              "STARS                9436.0     2.041755     0.902540    1.00000     1.00000   \n",
              "\n",
              "                           50%           75%          max  \n",
              "INDEX               8110.00000  12106.500000  16129.00000  \n",
              "TARGET                 3.00000      4.000000      8.00000  \n",
              "FixedAcidity           6.90000      9.500000     34.40000  \n",
              "VolatileAcidity        0.28000      0.640000      3.68000  \n",
              "CitricAcid             0.31000      0.580000      3.86000  \n",
              "ResidualSugar          3.90000     15.900000    141.15000  \n",
              "Chlorides              0.04600      0.153000      1.35100  \n",
              "FreeSulfurDioxide     30.00000     70.000000    623.00000  \n",
              "TotalSulfurDioxide   123.00000    208.000000   1057.00000  \n",
              "Density                0.99449      1.000515      1.09924  \n",
              "pH                     3.20000      3.470000      6.13000  \n",
              "Sulphates              0.50000      0.860000      4.24000  \n",
              "Alcohol               10.40000     12.400000     26.50000  \n",
              "LabelAppeal            0.00000      1.000000      2.00000  \n",
              "AcidIndex              8.00000      8.000000     17.00000  \n",
              "STARS                  2.00000      3.000000      4.00000  "
            ],
            "text/html": [
              "\n",
              "  <div id=\"df-9d9cb47d-118e-44de-bf95-00720a92f6a0\">\n",
              "    <div class=\"colab-df-container\">\n",
              "      <div>\n",
              "<style scoped>\n",
              "    .dataframe tbody tr th:only-of-type {\n",
              "        vertical-align: middle;\n",
              "    }\n",
              "\n",
              "    .dataframe tbody tr th {\n",
              "        vertical-align: top;\n",
              "    }\n",
              "\n",
              "    .dataframe thead th {\n",
              "        text-align: right;\n",
              "    }\n",
              "</style>\n",
              "<table border=\"1\" class=\"dataframe\">\n",
              "  <thead>\n",
              "    <tr style=\"text-align: right;\">\n",
              "      <th></th>\n",
              "      <th>count</th>\n",
              "      <th>mean</th>\n",
              "      <th>std</th>\n",
              "      <th>min</th>\n",
              "      <th>25%</th>\n",
              "      <th>50%</th>\n",
              "      <th>75%</th>\n",
              "      <th>max</th>\n",
              "    </tr>\n",
              "  </thead>\n",
              "  <tbody>\n",
              "    <tr>\n",
              "      <th>INDEX</th>\n",
              "      <td>12795.0</td>\n",
              "      <td>8069.980305</td>\n",
              "      <td>4656.905107</td>\n",
              "      <td>1.00000</td>\n",
              "      <td>4037.50000</td>\n",
              "      <td>8110.00000</td>\n",
              "      <td>12106.500000</td>\n",
              "      <td>16129.00000</td>\n",
              "    </tr>\n",
              "    <tr>\n",
              "      <th>TARGET</th>\n",
              "      <td>12795.0</td>\n",
              "      <td>3.029074</td>\n",
              "      <td>1.926368</td>\n",
              "      <td>0.00000</td>\n",
              "      <td>2.00000</td>\n",
              "      <td>3.00000</td>\n",
              "      <td>4.000000</td>\n",
              "      <td>8.00000</td>\n",
              "    </tr>\n",
              "    <tr>\n",
              "      <th>FixedAcidity</th>\n",
              "      <td>12795.0</td>\n",
              "      <td>7.075717</td>\n",
              "      <td>6.317643</td>\n",
              "      <td>-18.10000</td>\n",
              "      <td>5.20000</td>\n",
              "      <td>6.90000</td>\n",
              "      <td>9.500000</td>\n",
              "      <td>34.40000</td>\n",
              "    </tr>\n",
              "    <tr>\n",
              "      <th>VolatileAcidity</th>\n",
              "      <td>12795.0</td>\n",
              "      <td>0.324104</td>\n",
              "      <td>0.784014</td>\n",
              "      <td>-2.79000</td>\n",
              "      <td>0.13000</td>\n",
              "      <td>0.28000</td>\n",
              "      <td>0.640000</td>\n",
              "      <td>3.68000</td>\n",
              "    </tr>\n",
              "    <tr>\n",
              "      <th>CitricAcid</th>\n",
              "      <td>12795.0</td>\n",
              "      <td>0.308413</td>\n",
              "      <td>0.862080</td>\n",
              "      <td>-3.24000</td>\n",
              "      <td>0.03000</td>\n",
              "      <td>0.31000</td>\n",
              "      <td>0.580000</td>\n",
              "      <td>3.86000</td>\n",
              "    </tr>\n",
              "    <tr>\n",
              "      <th>ResidualSugar</th>\n",
              "      <td>12179.0</td>\n",
              "      <td>5.418733</td>\n",
              "      <td>33.749379</td>\n",
              "      <td>-127.80000</td>\n",
              "      <td>-2.00000</td>\n",
              "      <td>3.90000</td>\n",
              "      <td>15.900000</td>\n",
              "      <td>141.15000</td>\n",
              "    </tr>\n",
              "    <tr>\n",
              "      <th>Chlorides</th>\n",
              "      <td>12157.0</td>\n",
              "      <td>0.054822</td>\n",
              "      <td>0.318467</td>\n",
              "      <td>-1.17100</td>\n",
              "      <td>-0.03100</td>\n",
              "      <td>0.04600</td>\n",
              "      <td>0.153000</td>\n",
              "      <td>1.35100</td>\n",
              "    </tr>\n",
              "    <tr>\n",
              "      <th>FreeSulfurDioxide</th>\n",
              "      <td>12148.0</td>\n",
              "      <td>30.845571</td>\n",
              "      <td>148.714558</td>\n",
              "      <td>-555.00000</td>\n",
              "      <td>0.00000</td>\n",
              "      <td>30.00000</td>\n",
              "      <td>70.000000</td>\n",
              "      <td>623.00000</td>\n",
              "    </tr>\n",
              "    <tr>\n",
              "      <th>TotalSulfurDioxide</th>\n",
              "      <td>12113.0</td>\n",
              "      <td>120.714233</td>\n",
              "      <td>231.913211</td>\n",
              "      <td>-823.00000</td>\n",
              "      <td>27.00000</td>\n",
              "      <td>123.00000</td>\n",
              "      <td>208.000000</td>\n",
              "      <td>1057.00000</td>\n",
              "    </tr>\n",
              "    <tr>\n",
              "      <th>Density</th>\n",
              "      <td>12795.0</td>\n",
              "      <td>0.994203</td>\n",
              "      <td>0.026538</td>\n",
              "      <td>0.88809</td>\n",
              "      <td>0.98772</td>\n",
              "      <td>0.99449</td>\n",
              "      <td>1.000515</td>\n",
              "      <td>1.09924</td>\n",
              "    </tr>\n",
              "    <tr>\n",
              "      <th>pH</th>\n",
              "      <td>12400.0</td>\n",
              "      <td>3.207628</td>\n",
              "      <td>0.679687</td>\n",
              "      <td>0.48000</td>\n",
              "      <td>2.96000</td>\n",
              "      <td>3.20000</td>\n",
              "      <td>3.470000</td>\n",
              "      <td>6.13000</td>\n",
              "    </tr>\n",
              "    <tr>\n",
              "      <th>Sulphates</th>\n",
              "      <td>11585.0</td>\n",
              "      <td>0.527112</td>\n",
              "      <td>0.932129</td>\n",
              "      <td>-3.13000</td>\n",
              "      <td>0.28000</td>\n",
              "      <td>0.50000</td>\n",
              "      <td>0.860000</td>\n",
              "      <td>4.24000</td>\n",
              "    </tr>\n",
              "    <tr>\n",
              "      <th>Alcohol</th>\n",
              "      <td>12142.0</td>\n",
              "      <td>10.489236</td>\n",
              "      <td>3.727819</td>\n",
              "      <td>-4.70000</td>\n",
              "      <td>9.00000</td>\n",
              "      <td>10.40000</td>\n",
              "      <td>12.400000</td>\n",
              "      <td>26.50000</td>\n",
              "    </tr>\n",
              "    <tr>\n",
              "      <th>LabelAppeal</th>\n",
              "      <td>12795.0</td>\n",
              "      <td>-0.009066</td>\n",
              "      <td>0.891089</td>\n",
              "      <td>-2.00000</td>\n",
              "      <td>-1.00000</td>\n",
              "      <td>0.00000</td>\n",
              "      <td>1.000000</td>\n",
              "      <td>2.00000</td>\n",
              "    </tr>\n",
              "    <tr>\n",
              "      <th>AcidIndex</th>\n",
              "      <td>12795.0</td>\n",
              "      <td>7.772724</td>\n",
              "      <td>1.323926</td>\n",
              "      <td>4.00000</td>\n",
              "      <td>7.00000</td>\n",
              "      <td>8.00000</td>\n",
              "      <td>8.000000</td>\n",
              "      <td>17.00000</td>\n",
              "    </tr>\n",
              "    <tr>\n",
              "      <th>STARS</th>\n",
              "      <td>9436.0</td>\n",
              "      <td>2.041755</td>\n",
              "      <td>0.902540</td>\n",
              "      <td>1.00000</td>\n",
              "      <td>1.00000</td>\n",
              "      <td>2.00000</td>\n",
              "      <td>3.000000</td>\n",
              "      <td>4.00000</td>\n",
              "    </tr>\n",
              "  </tbody>\n",
              "</table>\n",
              "</div>\n",
              "      <button class=\"colab-df-convert\" onclick=\"convertToInteractive('df-9d9cb47d-118e-44de-bf95-00720a92f6a0')\"\n",
              "              title=\"Convert this dataframe to an interactive table.\"\n",
              "              style=\"display:none;\">\n",
              "        \n",
              "  <svg xmlns=\"http://www.w3.org/2000/svg\" height=\"24px\"viewBox=\"0 0 24 24\"\n",
              "       width=\"24px\">\n",
              "    <path d=\"M0 0h24v24H0V0z\" fill=\"none\"/>\n",
              "    <path d=\"M18.56 5.44l.94 2.06.94-2.06 2.06-.94-2.06-.94-.94-2.06-.94 2.06-2.06.94zm-11 1L8.5 8.5l.94-2.06 2.06-.94-2.06-.94L8.5 2.5l-.94 2.06-2.06.94zm10 10l.94 2.06.94-2.06 2.06-.94-2.06-.94-.94-2.06-.94 2.06-2.06.94z\"/><path d=\"M17.41 7.96l-1.37-1.37c-.4-.4-.92-.59-1.43-.59-.52 0-1.04.2-1.43.59L10.3 9.45l-7.72 7.72c-.78.78-.78 2.05 0 2.83L4 21.41c.39.39.9.59 1.41.59.51 0 1.02-.2 1.41-.59l7.78-7.78 2.81-2.81c.8-.78.8-2.07 0-2.86zM5.41 20L4 18.59l7.72-7.72 1.47 1.35L5.41 20z\"/>\n",
              "  </svg>\n",
              "      </button>\n",
              "      \n",
              "  <style>\n",
              "    .colab-df-container {\n",
              "      display:flex;\n",
              "      flex-wrap:wrap;\n",
              "      gap: 12px;\n",
              "    }\n",
              "\n",
              "    .colab-df-convert {\n",
              "      background-color: #E8F0FE;\n",
              "      border: none;\n",
              "      border-radius: 50%;\n",
              "      cursor: pointer;\n",
              "      display: none;\n",
              "      fill: #1967D2;\n",
              "      height: 32px;\n",
              "      padding: 0 0 0 0;\n",
              "      width: 32px;\n",
              "    }\n",
              "\n",
              "    .colab-df-convert:hover {\n",
              "      background-color: #E2EBFA;\n",
              "      box-shadow: 0px 1px 2px rgba(60, 64, 67, 0.3), 0px 1px 3px 1px rgba(60, 64, 67, 0.15);\n",
              "      fill: #174EA6;\n",
              "    }\n",
              "\n",
              "    [theme=dark] .colab-df-convert {\n",
              "      background-color: #3B4455;\n",
              "      fill: #D2E3FC;\n",
              "    }\n",
              "\n",
              "    [theme=dark] .colab-df-convert:hover {\n",
              "      background-color: #434B5C;\n",
              "      box-shadow: 0px 1px 3px 1px rgba(0, 0, 0, 0.15);\n",
              "      filter: drop-shadow(0px 1px 2px rgba(0, 0, 0, 0.3));\n",
              "      fill: #FFFFFF;\n",
              "    }\n",
              "  </style>\n",
              "\n",
              "      <script>\n",
              "        const buttonEl =\n",
              "          document.querySelector('#df-9d9cb47d-118e-44de-bf95-00720a92f6a0 button.colab-df-convert');\n",
              "        buttonEl.style.display =\n",
              "          google.colab.kernel.accessAllowed ? 'block' : 'none';\n",
              "\n",
              "        async function convertToInteractive(key) {\n",
              "          const element = document.querySelector('#df-9d9cb47d-118e-44de-bf95-00720a92f6a0');\n",
              "          const dataTable =\n",
              "            await google.colab.kernel.invokeFunction('convertToInteractive',\n",
              "                                                     [key], {});\n",
              "          if (!dataTable) return;\n",
              "\n",
              "          const docLinkHtml = 'Like what you see? Visit the ' +\n",
              "            '<a target=\"_blank\" href=https://colab.research.google.com/notebooks/data_table.ipynb>data table notebook</a>'\n",
              "            + ' to learn more about interactive tables.';\n",
              "          element.innerHTML = '';\n",
              "          dataTable['output_type'] = 'display_data';\n",
              "          await google.colab.output.renderOutput(dataTable, element);\n",
              "          const docLink = document.createElement('div');\n",
              "          docLink.innerHTML = docLinkHtml;\n",
              "          element.appendChild(docLink);\n",
              "        }\n",
              "      </script>\n",
              "    </div>\n",
              "  </div>\n",
              "  "
            ]
          },
          "metadata": {},
          "execution_count": 40
        }
      ]
    },
    {
      "cell_type": "markdown",
      "source": [
        "Then I used the nunique() method, which returns the number of unique values for each column. This was so I could check for variation in the data. \n"
      ],
      "metadata": {
        "id": "sJNnm-Hf24Nj"
      }
    },
    {
      "cell_type": "code",
      "source": [
        "data.nunique()"
      ],
      "metadata": {
        "colab": {
          "base_uri": "https://localhost:8080/"
        },
        "id": "DDfkxsGj2-Ib",
        "outputId": "a1592850-090d-4945-ad44-dbf993804757"
      },
      "execution_count": null,
      "outputs": [
        {
          "output_type": "execute_result",
          "data": {
            "text/plain": [
              "INDEX                 12795\n",
              "TARGET                    9\n",
              "FixedAcidity            470\n",
              "VolatileAcidity         815\n",
              "CitricAcid              602\n",
              "ResidualSugar          2077\n",
              "Chlorides              1663\n",
              "FreeSulfurDioxide       999\n",
              "TotalSulfurDioxide     1370\n",
              "Density                5933\n",
              "pH                      497\n",
              "Sulphates               630\n",
              "Alcohol                 401\n",
              "LabelAppeal               5\n",
              "AcidIndex                14\n",
              "STARS                     4\n",
              "dtype: int64"
            ]
          },
          "metadata": {},
          "execution_count": 41
        }
      ]
    },
    {
      "cell_type": "markdown",
      "source": [
        "#Data Preparation#"
      ],
      "metadata": {
        "id": "3YzvuQ50weI2"
      }
    },
    {
      "cell_type": "markdown",
      "source": [
        "## Creating Subsets of the Dataset##\n",
        "\n",
        "To organize the data better, I set up two different subsets. The numData subset contains numerical attributes and the catData subset contains categorical attributes. "
      ],
      "metadata": {
        "id": "HprFqdzhndrB"
      }
    },
    {
      "cell_type": "markdown",
      "source": [
        "###Subset Creation###"
      ],
      "metadata": {
        "id": "aIA5Yqmgz3Z7"
      }
    },
    {
      "cell_type": "code",
      "source": [
        "numData = data[['FixedAcidity','VolatileAcidity','CitricAcid','ResidualSugar','Chlorides','FreeSulfurDioxide', 'TotalSulfurDioxide', 'Density','pH', 'Sulphates', 'Alcohol', 'AcidIndex']]\n",
        "numData.head()"
      ],
      "metadata": {
        "id": "6o5kFvSpnhu2",
        "colab": {
          "base_uri": "https://localhost:8080/",
          "height": 206
        },
        "outputId": "02d0778b-9218-4638-95aa-654e1261405c"
      },
      "execution_count": null,
      "outputs": [
        {
          "output_type": "execute_result",
          "data": {
            "text/plain": [
              "   FixedAcidity  VolatileAcidity  CitricAcid  ResidualSugar  Chlorides  \\\n",
              "0           3.2            1.160       -0.98           54.2     -0.567   \n",
              "1           4.5            0.160       -0.81           26.1     -0.425   \n",
              "2           7.1            2.640       -0.88           14.8      0.037   \n",
              "3           5.7            0.385        0.04           18.8     -0.425   \n",
              "4           8.0            0.330       -1.26            9.4        NaN   \n",
              "\n",
              "   FreeSulfurDioxide  TotalSulfurDioxide  Density    pH  Sulphates  Alcohol  \\\n",
              "0                NaN               268.0  0.99280  3.33      -0.59      9.9   \n",
              "1               15.0              -327.0  1.02792  3.38       0.70      NaN   \n",
              "2              214.0               142.0  0.99518  3.12       0.48     22.0   \n",
              "3               22.0               115.0  0.99640  2.24       1.83      6.2   \n",
              "4             -167.0               108.0  0.99457  3.12       1.77     13.7   \n",
              "\n",
              "   AcidIndex  \n",
              "0          8  \n",
              "1          7  \n",
              "2          8  \n",
              "3          6  \n",
              "4          9  "
            ],
            "text/html": [
              "\n",
              "  <div id=\"df-8f6a8bd2-4e1a-4b66-8085-9a0ae819759a\">\n",
              "    <div class=\"colab-df-container\">\n",
              "      <div>\n",
              "<style scoped>\n",
              "    .dataframe tbody tr th:only-of-type {\n",
              "        vertical-align: middle;\n",
              "    }\n",
              "\n",
              "    .dataframe tbody tr th {\n",
              "        vertical-align: top;\n",
              "    }\n",
              "\n",
              "    .dataframe thead th {\n",
              "        text-align: right;\n",
              "    }\n",
              "</style>\n",
              "<table border=\"1\" class=\"dataframe\">\n",
              "  <thead>\n",
              "    <tr style=\"text-align: right;\">\n",
              "      <th></th>\n",
              "      <th>FixedAcidity</th>\n",
              "      <th>VolatileAcidity</th>\n",
              "      <th>CitricAcid</th>\n",
              "      <th>ResidualSugar</th>\n",
              "      <th>Chlorides</th>\n",
              "      <th>FreeSulfurDioxide</th>\n",
              "      <th>TotalSulfurDioxide</th>\n",
              "      <th>Density</th>\n",
              "      <th>pH</th>\n",
              "      <th>Sulphates</th>\n",
              "      <th>Alcohol</th>\n",
              "      <th>AcidIndex</th>\n",
              "    </tr>\n",
              "  </thead>\n",
              "  <tbody>\n",
              "    <tr>\n",
              "      <th>0</th>\n",
              "      <td>3.2</td>\n",
              "      <td>1.160</td>\n",
              "      <td>-0.98</td>\n",
              "      <td>54.2</td>\n",
              "      <td>-0.567</td>\n",
              "      <td>NaN</td>\n",
              "      <td>268.0</td>\n",
              "      <td>0.99280</td>\n",
              "      <td>3.33</td>\n",
              "      <td>-0.59</td>\n",
              "      <td>9.9</td>\n",
              "      <td>8</td>\n",
              "    </tr>\n",
              "    <tr>\n",
              "      <th>1</th>\n",
              "      <td>4.5</td>\n",
              "      <td>0.160</td>\n",
              "      <td>-0.81</td>\n",
              "      <td>26.1</td>\n",
              "      <td>-0.425</td>\n",
              "      <td>15.0</td>\n",
              "      <td>-327.0</td>\n",
              "      <td>1.02792</td>\n",
              "      <td>3.38</td>\n",
              "      <td>0.70</td>\n",
              "      <td>NaN</td>\n",
              "      <td>7</td>\n",
              "    </tr>\n",
              "    <tr>\n",
              "      <th>2</th>\n",
              "      <td>7.1</td>\n",
              "      <td>2.640</td>\n",
              "      <td>-0.88</td>\n",
              "      <td>14.8</td>\n",
              "      <td>0.037</td>\n",
              "      <td>214.0</td>\n",
              "      <td>142.0</td>\n",
              "      <td>0.99518</td>\n",
              "      <td>3.12</td>\n",
              "      <td>0.48</td>\n",
              "      <td>22.0</td>\n",
              "      <td>8</td>\n",
              "    </tr>\n",
              "    <tr>\n",
              "      <th>3</th>\n",
              "      <td>5.7</td>\n",
              "      <td>0.385</td>\n",
              "      <td>0.04</td>\n",
              "      <td>18.8</td>\n",
              "      <td>-0.425</td>\n",
              "      <td>22.0</td>\n",
              "      <td>115.0</td>\n",
              "      <td>0.99640</td>\n",
              "      <td>2.24</td>\n",
              "      <td>1.83</td>\n",
              "      <td>6.2</td>\n",
              "      <td>6</td>\n",
              "    </tr>\n",
              "    <tr>\n",
              "      <th>4</th>\n",
              "      <td>8.0</td>\n",
              "      <td>0.330</td>\n",
              "      <td>-1.26</td>\n",
              "      <td>9.4</td>\n",
              "      <td>NaN</td>\n",
              "      <td>-167.0</td>\n",
              "      <td>108.0</td>\n",
              "      <td>0.99457</td>\n",
              "      <td>3.12</td>\n",
              "      <td>1.77</td>\n",
              "      <td>13.7</td>\n",
              "      <td>9</td>\n",
              "    </tr>\n",
              "  </tbody>\n",
              "</table>\n",
              "</div>\n",
              "      <button class=\"colab-df-convert\" onclick=\"convertToInteractive('df-8f6a8bd2-4e1a-4b66-8085-9a0ae819759a')\"\n",
              "              title=\"Convert this dataframe to an interactive table.\"\n",
              "              style=\"display:none;\">\n",
              "        \n",
              "  <svg xmlns=\"http://www.w3.org/2000/svg\" height=\"24px\"viewBox=\"0 0 24 24\"\n",
              "       width=\"24px\">\n",
              "    <path d=\"M0 0h24v24H0V0z\" fill=\"none\"/>\n",
              "    <path d=\"M18.56 5.44l.94 2.06.94-2.06 2.06-.94-2.06-.94-.94-2.06-.94 2.06-2.06.94zm-11 1L8.5 8.5l.94-2.06 2.06-.94-2.06-.94L8.5 2.5l-.94 2.06-2.06.94zm10 10l.94 2.06.94-2.06 2.06-.94-2.06-.94-.94-2.06-.94 2.06-2.06.94z\"/><path d=\"M17.41 7.96l-1.37-1.37c-.4-.4-.92-.59-1.43-.59-.52 0-1.04.2-1.43.59L10.3 9.45l-7.72 7.72c-.78.78-.78 2.05 0 2.83L4 21.41c.39.39.9.59 1.41.59.51 0 1.02-.2 1.41-.59l7.78-7.78 2.81-2.81c.8-.78.8-2.07 0-2.86zM5.41 20L4 18.59l7.72-7.72 1.47 1.35L5.41 20z\"/>\n",
              "  </svg>\n",
              "      </button>\n",
              "      \n",
              "  <style>\n",
              "    .colab-df-container {\n",
              "      display:flex;\n",
              "      flex-wrap:wrap;\n",
              "      gap: 12px;\n",
              "    }\n",
              "\n",
              "    .colab-df-convert {\n",
              "      background-color: #E8F0FE;\n",
              "      border: none;\n",
              "      border-radius: 50%;\n",
              "      cursor: pointer;\n",
              "      display: none;\n",
              "      fill: #1967D2;\n",
              "      height: 32px;\n",
              "      padding: 0 0 0 0;\n",
              "      width: 32px;\n",
              "    }\n",
              "\n",
              "    .colab-df-convert:hover {\n",
              "      background-color: #E2EBFA;\n",
              "      box-shadow: 0px 1px 2px rgba(60, 64, 67, 0.3), 0px 1px 3px 1px rgba(60, 64, 67, 0.15);\n",
              "      fill: #174EA6;\n",
              "    }\n",
              "\n",
              "    [theme=dark] .colab-df-convert {\n",
              "      background-color: #3B4455;\n",
              "      fill: #D2E3FC;\n",
              "    }\n",
              "\n",
              "    [theme=dark] .colab-df-convert:hover {\n",
              "      background-color: #434B5C;\n",
              "      box-shadow: 0px 1px 3px 1px rgba(0, 0, 0, 0.15);\n",
              "      filter: drop-shadow(0px 1px 2px rgba(0, 0, 0, 0.3));\n",
              "      fill: #FFFFFF;\n",
              "    }\n",
              "  </style>\n",
              "\n",
              "      <script>\n",
              "        const buttonEl =\n",
              "          document.querySelector('#df-8f6a8bd2-4e1a-4b66-8085-9a0ae819759a button.colab-df-convert');\n",
              "        buttonEl.style.display =\n",
              "          google.colab.kernel.accessAllowed ? 'block' : 'none';\n",
              "\n",
              "        async function convertToInteractive(key) {\n",
              "          const element = document.querySelector('#df-8f6a8bd2-4e1a-4b66-8085-9a0ae819759a');\n",
              "          const dataTable =\n",
              "            await google.colab.kernel.invokeFunction('convertToInteractive',\n",
              "                                                     [key], {});\n",
              "          if (!dataTable) return;\n",
              "\n",
              "          const docLinkHtml = 'Like what you see? Visit the ' +\n",
              "            '<a target=\"_blank\" href=https://colab.research.google.com/notebooks/data_table.ipynb>data table notebook</a>'\n",
              "            + ' to learn more about interactive tables.';\n",
              "          element.innerHTML = '';\n",
              "          dataTable['output_type'] = 'display_data';\n",
              "          await google.colab.output.renderOutput(dataTable, element);\n",
              "          const docLink = document.createElement('div');\n",
              "          docLink.innerHTML = docLinkHtml;\n",
              "          element.appendChild(docLink);\n",
              "        }\n",
              "      </script>\n",
              "    </div>\n",
              "  </div>\n",
              "  "
            ]
          },
          "metadata": {},
          "execution_count": 195
        }
      ]
    },
    {
      "cell_type": "code",
      "source": [
        "catData = data[['STARS', 'TARGET', 'LabelAppeal']]\n",
        "catData.head()"
      ],
      "metadata": {
        "colab": {
          "base_uri": "https://localhost:8080/",
          "height": 206
        },
        "id": "deoaOQx90EEK",
        "outputId": "f7b3eec6-d4d5-4399-e1c7-70dc7422c5b5"
      },
      "execution_count": null,
      "outputs": [
        {
          "output_type": "execute_result",
          "data": {
            "text/plain": [
              "   STARS  TARGET  LabelAppeal\n",
              "0    2.0       3            0\n",
              "1    3.0       3           -1\n",
              "2    3.0       5           -1\n",
              "3    1.0       3           -1\n",
              "4    2.0       4            0"
            ],
            "text/html": [
              "\n",
              "  <div id=\"df-88db7a19-774e-4806-982d-a65c8bdfb5b2\">\n",
              "    <div class=\"colab-df-container\">\n",
              "      <div>\n",
              "<style scoped>\n",
              "    .dataframe tbody tr th:only-of-type {\n",
              "        vertical-align: middle;\n",
              "    }\n",
              "\n",
              "    .dataframe tbody tr th {\n",
              "        vertical-align: top;\n",
              "    }\n",
              "\n",
              "    .dataframe thead th {\n",
              "        text-align: right;\n",
              "    }\n",
              "</style>\n",
              "<table border=\"1\" class=\"dataframe\">\n",
              "  <thead>\n",
              "    <tr style=\"text-align: right;\">\n",
              "      <th></th>\n",
              "      <th>STARS</th>\n",
              "      <th>TARGET</th>\n",
              "      <th>LabelAppeal</th>\n",
              "    </tr>\n",
              "  </thead>\n",
              "  <tbody>\n",
              "    <tr>\n",
              "      <th>0</th>\n",
              "      <td>2.0</td>\n",
              "      <td>3</td>\n",
              "      <td>0</td>\n",
              "    </tr>\n",
              "    <tr>\n",
              "      <th>1</th>\n",
              "      <td>3.0</td>\n",
              "      <td>3</td>\n",
              "      <td>-1</td>\n",
              "    </tr>\n",
              "    <tr>\n",
              "      <th>2</th>\n",
              "      <td>3.0</td>\n",
              "      <td>5</td>\n",
              "      <td>-1</td>\n",
              "    </tr>\n",
              "    <tr>\n",
              "      <th>3</th>\n",
              "      <td>1.0</td>\n",
              "      <td>3</td>\n",
              "      <td>-1</td>\n",
              "    </tr>\n",
              "    <tr>\n",
              "      <th>4</th>\n",
              "      <td>2.0</td>\n",
              "      <td>4</td>\n",
              "      <td>0</td>\n",
              "    </tr>\n",
              "  </tbody>\n",
              "</table>\n",
              "</div>\n",
              "      <button class=\"colab-df-convert\" onclick=\"convertToInteractive('df-88db7a19-774e-4806-982d-a65c8bdfb5b2')\"\n",
              "              title=\"Convert this dataframe to an interactive table.\"\n",
              "              style=\"display:none;\">\n",
              "        \n",
              "  <svg xmlns=\"http://www.w3.org/2000/svg\" height=\"24px\"viewBox=\"0 0 24 24\"\n",
              "       width=\"24px\">\n",
              "    <path d=\"M0 0h24v24H0V0z\" fill=\"none\"/>\n",
              "    <path d=\"M18.56 5.44l.94 2.06.94-2.06 2.06-.94-2.06-.94-.94-2.06-.94 2.06-2.06.94zm-11 1L8.5 8.5l.94-2.06 2.06-.94-2.06-.94L8.5 2.5l-.94 2.06-2.06.94zm10 10l.94 2.06.94-2.06 2.06-.94-2.06-.94-.94-2.06-.94 2.06-2.06.94z\"/><path d=\"M17.41 7.96l-1.37-1.37c-.4-.4-.92-.59-1.43-.59-.52 0-1.04.2-1.43.59L10.3 9.45l-7.72 7.72c-.78.78-.78 2.05 0 2.83L4 21.41c.39.39.9.59 1.41.59.51 0 1.02-.2 1.41-.59l7.78-7.78 2.81-2.81c.8-.78.8-2.07 0-2.86zM5.41 20L4 18.59l7.72-7.72 1.47 1.35L5.41 20z\"/>\n",
              "  </svg>\n",
              "      </button>\n",
              "      \n",
              "  <style>\n",
              "    .colab-df-container {\n",
              "      display:flex;\n",
              "      flex-wrap:wrap;\n",
              "      gap: 12px;\n",
              "    }\n",
              "\n",
              "    .colab-df-convert {\n",
              "      background-color: #E8F0FE;\n",
              "      border: none;\n",
              "      border-radius: 50%;\n",
              "      cursor: pointer;\n",
              "      display: none;\n",
              "      fill: #1967D2;\n",
              "      height: 32px;\n",
              "      padding: 0 0 0 0;\n",
              "      width: 32px;\n",
              "    }\n",
              "\n",
              "    .colab-df-convert:hover {\n",
              "      background-color: #E2EBFA;\n",
              "      box-shadow: 0px 1px 2px rgba(60, 64, 67, 0.3), 0px 1px 3px 1px rgba(60, 64, 67, 0.15);\n",
              "      fill: #174EA6;\n",
              "    }\n",
              "\n",
              "    [theme=dark] .colab-df-convert {\n",
              "      background-color: #3B4455;\n",
              "      fill: #D2E3FC;\n",
              "    }\n",
              "\n",
              "    [theme=dark] .colab-df-convert:hover {\n",
              "      background-color: #434B5C;\n",
              "      box-shadow: 0px 1px 3px 1px rgba(0, 0, 0, 0.15);\n",
              "      filter: drop-shadow(0px 1px 2px rgba(0, 0, 0, 0.3));\n",
              "      fill: #FFFFFF;\n",
              "    }\n",
              "  </style>\n",
              "\n",
              "      <script>\n",
              "        const buttonEl =\n",
              "          document.querySelector('#df-88db7a19-774e-4806-982d-a65c8bdfb5b2 button.colab-df-convert');\n",
              "        buttonEl.style.display =\n",
              "          google.colab.kernel.accessAllowed ? 'block' : 'none';\n",
              "\n",
              "        async function convertToInteractive(key) {\n",
              "          const element = document.querySelector('#df-88db7a19-774e-4806-982d-a65c8bdfb5b2');\n",
              "          const dataTable =\n",
              "            await google.colab.kernel.invokeFunction('convertToInteractive',\n",
              "                                                     [key], {});\n",
              "          if (!dataTable) return;\n",
              "\n",
              "          const docLinkHtml = 'Like what you see? Visit the ' +\n",
              "            '<a target=\"_blank\" href=https://colab.research.google.com/notebooks/data_table.ipynb>data table notebook</a>'\n",
              "            + ' to learn more about interactive tables.';\n",
              "          element.innerHTML = '';\n",
              "          dataTable['output_type'] = 'display_data';\n",
              "          await google.colab.output.renderOutput(dataTable, element);\n",
              "          const docLink = document.createElement('div');\n",
              "          docLink.innerHTML = docLinkHtml;\n",
              "          element.appendChild(docLink);\n",
              "        }\n",
              "      </script>\n",
              "    </div>\n",
              "  </div>\n",
              "  "
            ]
          },
          "metadata": {},
          "execution_count": 196
        }
      ]
    },
    {
      "cell_type": "markdown",
      "source": [
        "Next, I needed to check for nulls and then to deal with them."
      ],
      "metadata": {
        "id": "XL_R0nGZnuEA"
      }
    },
    {
      "cell_type": "code",
      "source": [
        "numData.columns[numData.isnull().any()]"
      ],
      "metadata": {
        "id": "JPSfJHDMnu71",
        "colab": {
          "base_uri": "https://localhost:8080/"
        },
        "outputId": "731c5f14-b3e4-40b8-d205-b329849f312f"
      },
      "execution_count": null,
      "outputs": [
        {
          "output_type": "execute_result",
          "data": {
            "text/plain": [
              "Index(['ResidualSugar', 'Chlorides', 'FreeSulfurDioxide', 'TotalSulfurDioxide',\n",
              "       'pH', 'Sulphates', 'Alcohol'],\n",
              "      dtype='object')"
            ]
          },
          "metadata": {},
          "execution_count": 197
        }
      ]
    },
    {
      "cell_type": "code",
      "source": [
        "catData.columns[catData.isnull().any()]"
      ],
      "metadata": {
        "colab": {
          "base_uri": "https://localhost:8080/"
        },
        "id": "CDFAzdhh3Jx-",
        "outputId": "65915a34-d43d-43a3-ea6c-cb4650420e08"
      },
      "execution_count": null,
      "outputs": [
        {
          "output_type": "execute_result",
          "data": {
            "text/plain": [
              "Index(['STARS'], dtype='object')"
            ]
          },
          "metadata": {},
          "execution_count": 198
        }
      ]
    },
    {
      "cell_type": "markdown",
      "source": [
        "It was imperative that I remove NaN values and so I leveraged the .dropna() method to clean up the categorical subset. "
      ],
      "metadata": {
        "id": "rNC3kAbLvWtB"
      }
    },
    {
      "cell_type": "code",
      "source": [
        "catData = catData.dropna()\n",
        "catData"
      ],
      "metadata": {
        "colab": {
          "base_uri": "https://localhost:8080/",
          "height": 424
        },
        "id": "9Ypk3nCl3cSY",
        "outputId": "59685ab8-979f-4c34-9cd4-72c0b2a0168f"
      },
      "execution_count": null,
      "outputs": [
        {
          "output_type": "execute_result",
          "data": {
            "text/plain": [
              "       STARS  TARGET  LabelAppeal\n",
              "0        2.0       3            0\n",
              "1        3.0       3           -1\n",
              "2        3.0       5           -1\n",
              "3        1.0       3           -1\n",
              "4        2.0       4            0\n",
              "...      ...     ...          ...\n",
              "12789    1.0       4            0\n",
              "12791    2.0       5           -1\n",
              "12792    2.0       4            0\n",
              "12793    2.0       3           -1\n",
              "12794    2.0       4            0\n",
              "\n",
              "[9436 rows x 3 columns]"
            ],
            "text/html": [
              "\n",
              "  <div id=\"df-7daf71e1-6053-4406-8371-bbf3d3bb717a\">\n",
              "    <div class=\"colab-df-container\">\n",
              "      <div>\n",
              "<style scoped>\n",
              "    .dataframe tbody tr th:only-of-type {\n",
              "        vertical-align: middle;\n",
              "    }\n",
              "\n",
              "    .dataframe tbody tr th {\n",
              "        vertical-align: top;\n",
              "    }\n",
              "\n",
              "    .dataframe thead th {\n",
              "        text-align: right;\n",
              "    }\n",
              "</style>\n",
              "<table border=\"1\" class=\"dataframe\">\n",
              "  <thead>\n",
              "    <tr style=\"text-align: right;\">\n",
              "      <th></th>\n",
              "      <th>STARS</th>\n",
              "      <th>TARGET</th>\n",
              "      <th>LabelAppeal</th>\n",
              "    </tr>\n",
              "  </thead>\n",
              "  <tbody>\n",
              "    <tr>\n",
              "      <th>0</th>\n",
              "      <td>2.0</td>\n",
              "      <td>3</td>\n",
              "      <td>0</td>\n",
              "    </tr>\n",
              "    <tr>\n",
              "      <th>1</th>\n",
              "      <td>3.0</td>\n",
              "      <td>3</td>\n",
              "      <td>-1</td>\n",
              "    </tr>\n",
              "    <tr>\n",
              "      <th>2</th>\n",
              "      <td>3.0</td>\n",
              "      <td>5</td>\n",
              "      <td>-1</td>\n",
              "    </tr>\n",
              "    <tr>\n",
              "      <th>3</th>\n",
              "      <td>1.0</td>\n",
              "      <td>3</td>\n",
              "      <td>-1</td>\n",
              "    </tr>\n",
              "    <tr>\n",
              "      <th>4</th>\n",
              "      <td>2.0</td>\n",
              "      <td>4</td>\n",
              "      <td>0</td>\n",
              "    </tr>\n",
              "    <tr>\n",
              "      <th>...</th>\n",
              "      <td>...</td>\n",
              "      <td>...</td>\n",
              "      <td>...</td>\n",
              "    </tr>\n",
              "    <tr>\n",
              "      <th>12789</th>\n",
              "      <td>1.0</td>\n",
              "      <td>4</td>\n",
              "      <td>0</td>\n",
              "    </tr>\n",
              "    <tr>\n",
              "      <th>12791</th>\n",
              "      <td>2.0</td>\n",
              "      <td>5</td>\n",
              "      <td>-1</td>\n",
              "    </tr>\n",
              "    <tr>\n",
              "      <th>12792</th>\n",
              "      <td>2.0</td>\n",
              "      <td>4</td>\n",
              "      <td>0</td>\n",
              "    </tr>\n",
              "    <tr>\n",
              "      <th>12793</th>\n",
              "      <td>2.0</td>\n",
              "      <td>3</td>\n",
              "      <td>-1</td>\n",
              "    </tr>\n",
              "    <tr>\n",
              "      <th>12794</th>\n",
              "      <td>2.0</td>\n",
              "      <td>4</td>\n",
              "      <td>0</td>\n",
              "    </tr>\n",
              "  </tbody>\n",
              "</table>\n",
              "<p>9436 rows × 3 columns</p>\n",
              "</div>\n",
              "      <button class=\"colab-df-convert\" onclick=\"convertToInteractive('df-7daf71e1-6053-4406-8371-bbf3d3bb717a')\"\n",
              "              title=\"Convert this dataframe to an interactive table.\"\n",
              "              style=\"display:none;\">\n",
              "        \n",
              "  <svg xmlns=\"http://www.w3.org/2000/svg\" height=\"24px\"viewBox=\"0 0 24 24\"\n",
              "       width=\"24px\">\n",
              "    <path d=\"M0 0h24v24H0V0z\" fill=\"none\"/>\n",
              "    <path d=\"M18.56 5.44l.94 2.06.94-2.06 2.06-.94-2.06-.94-.94-2.06-.94 2.06-2.06.94zm-11 1L8.5 8.5l.94-2.06 2.06-.94-2.06-.94L8.5 2.5l-.94 2.06-2.06.94zm10 10l.94 2.06.94-2.06 2.06-.94-2.06-.94-.94-2.06-.94 2.06-2.06.94z\"/><path d=\"M17.41 7.96l-1.37-1.37c-.4-.4-.92-.59-1.43-.59-.52 0-1.04.2-1.43.59L10.3 9.45l-7.72 7.72c-.78.78-.78 2.05 0 2.83L4 21.41c.39.39.9.59 1.41.59.51 0 1.02-.2 1.41-.59l7.78-7.78 2.81-2.81c.8-.78.8-2.07 0-2.86zM5.41 20L4 18.59l7.72-7.72 1.47 1.35L5.41 20z\"/>\n",
              "  </svg>\n",
              "      </button>\n",
              "      \n",
              "  <style>\n",
              "    .colab-df-container {\n",
              "      display:flex;\n",
              "      flex-wrap:wrap;\n",
              "      gap: 12px;\n",
              "    }\n",
              "\n",
              "    .colab-df-convert {\n",
              "      background-color: #E8F0FE;\n",
              "      border: none;\n",
              "      border-radius: 50%;\n",
              "      cursor: pointer;\n",
              "      display: none;\n",
              "      fill: #1967D2;\n",
              "      height: 32px;\n",
              "      padding: 0 0 0 0;\n",
              "      width: 32px;\n",
              "    }\n",
              "\n",
              "    .colab-df-convert:hover {\n",
              "      background-color: #E2EBFA;\n",
              "      box-shadow: 0px 1px 2px rgba(60, 64, 67, 0.3), 0px 1px 3px 1px rgba(60, 64, 67, 0.15);\n",
              "      fill: #174EA6;\n",
              "    }\n",
              "\n",
              "    [theme=dark] .colab-df-convert {\n",
              "      background-color: #3B4455;\n",
              "      fill: #D2E3FC;\n",
              "    }\n",
              "\n",
              "    [theme=dark] .colab-df-convert:hover {\n",
              "      background-color: #434B5C;\n",
              "      box-shadow: 0px 1px 3px 1px rgba(0, 0, 0, 0.15);\n",
              "      filter: drop-shadow(0px 1px 2px rgba(0, 0, 0, 0.3));\n",
              "      fill: #FFFFFF;\n",
              "    }\n",
              "  </style>\n",
              "\n",
              "      <script>\n",
              "        const buttonEl =\n",
              "          document.querySelector('#df-7daf71e1-6053-4406-8371-bbf3d3bb717a button.colab-df-convert');\n",
              "        buttonEl.style.display =\n",
              "          google.colab.kernel.accessAllowed ? 'block' : 'none';\n",
              "\n",
              "        async function convertToInteractive(key) {\n",
              "          const element = document.querySelector('#df-7daf71e1-6053-4406-8371-bbf3d3bb717a');\n",
              "          const dataTable =\n",
              "            await google.colab.kernel.invokeFunction('convertToInteractive',\n",
              "                                                     [key], {});\n",
              "          if (!dataTable) return;\n",
              "\n",
              "          const docLinkHtml = 'Like what you see? Visit the ' +\n",
              "            '<a target=\"_blank\" href=https://colab.research.google.com/notebooks/data_table.ipynb>data table notebook</a>'\n",
              "            + ' to learn more about interactive tables.';\n",
              "          element.innerHTML = '';\n",
              "          dataTable['output_type'] = 'display_data';\n",
              "          await google.colab.output.renderOutput(dataTable, element);\n",
              "          const docLink = document.createElement('div');\n",
              "          docLink.innerHTML = docLinkHtml;\n",
              "          element.appendChild(docLink);\n",
              "        }\n",
              "      </script>\n",
              "    </div>\n",
              "  </div>\n",
              "  "
            ]
          },
          "metadata": {},
          "execution_count": 199
        }
      ]
    },
    {
      "cell_type": "markdown",
      "source": [
        "#Prepped Data Review#"
      ],
      "metadata": {
        "id": "xyqBpMs70jO-"
      }
    },
    {
      "cell_type": "markdown",
      "source": [
        "##Removing Superfluous Data##"
      ],
      "metadata": {
        "id": "-IeCtye4-1CP"
      }
    },
    {
      "cell_type": "markdown",
      "source": [
        "The main focus of my data preparation was to get rid of the superfluous data that is towards the min and max. Through research and analysis, I came up with a few important edge cases that could be a point of reference for removal. \n",
        "\n",
        "Here are some of the takeaways and implementables from my research:\n",
        "- An extremely sweet wine is 121 grams per liter, I capped the residual sugar attribute at 181.5 (1.5 x 121). \n",
        "-The Free Sulfur Dioxide is too high as well and so I used the STD of 150 to cap it. \n",
        "\n",
        "- Fixed acidity was dealt with by taking the 75% percentile for the fixed acidity and adding to the STD. 9.5 + 6.3 = 15.8.\n",
        "\n",
        "*Please note: I am in the process of learning and tinkering with some of the techniques, as I refine my mathematical and statistical application skills, I will be able to use better methods to deal with outliers and fuzzy data.*\n"
      ],
      "metadata": {
        "id": "d5zjtcBOF23t"
      }
    },
    {
      "cell_type": "code",
      "source": [
        "numData.drop(numData[numData['Sulphates'] <0].index,inplace= True) \n",
        "numData.drop(numData[numData['FixedAcidity'] <0].index,inplace= True) \n",
        "numData.drop(numData[numData['CitricAcid'] <0].index,inplace= True) \n",
        "numData.drop(numData[numData['Chlorides'] <0].index,inplace= True) \n",
        "numData.drop(numData[numData['FreeSulfurDioxide'] <0].index,inplace= True) \n",
        "numData.drop(numData[numData['TotalSulfurDioxide'] <0].index,inplace= True) \n",
        "numData.drop(numData[numData['Alcohol'] <0].index,inplace= True) \n",
        "numData.drop(numData[numData['ResidualSugar'] <0].index,inplace= True) \n",
        "numData.drop(numData[numData['ResidualSugar'] > 181.5].index,inplace= True)\n",
        "numData.drop(numData[numData['FreeSulfurDioxide'] > 181.5].index,inplace= True)\n",
        "numData.drop(numData[numData['FixedAcidity'] > 15.8].index,inplace= True)   \n",
        "numData1=numData.dropna()\n",
        "\n",
        "\n",
        "\n",
        "\n",
        "\n",
        "\n",
        "\n"
      ],
      "metadata": {
        "id": "EtDiBRuF-zlc"
      },
      "execution_count": null,
      "outputs": []
    },
    {
      "cell_type": "markdown",
      "source": [
        "Here are some visuals to show the progess made prepping the data. \n",
        "\n",
        "*Please note: There are representations of the data that I want to compare but I have to improve my understanding of what exactly is important and what is not. I will refine this notebook as my skills improve. This is a ceaseless endeavor and I will make sure to tinker and improve these representations.* "
      ],
      "metadata": {
        "id": "lwBvT5NKzIym"
      }
    },
    {
      "cell_type": "code",
      "source": [
        "numData1.plot()"
      ],
      "metadata": {
        "colab": {
          "base_uri": "https://localhost:8080/",
          "height": 502
        },
        "id": "_-Ht-LFdz_WC",
        "outputId": "7eee55ed-8401-43d4-b89b-ca40a632237c"
      },
      "execution_count": null,
      "outputs": [
        {
          "output_type": "execute_result",
          "data": {
            "text/plain": [
              "<matplotlib.axes._subplots.AxesSubplot at 0x7f4e600e2510>"
            ]
          },
          "metadata": {},
          "execution_count": 208
        },
        {
          "output_type": "display_data",
          "data": {
            "text/plain": [
              "<Figure size 1080x576 with 1 Axes>"
            ],
            "image/png": "[encoded data removed]"
          },
          "metadata": {}
        }
      ]
    },
    {
      "cell_type": "code",
      "source": [
        "sns.set(rc = {'figure.figsize':(15,8)})\n",
        "sns.heatmap(numData1.corr())\n",
        "plt.show()\n"
      ],
      "metadata": {
        "colab": {
          "base_uri": "https://localhost:8080/",
          "height": 579
        },
        "id": "GjaEJWxbACVi",
        "outputId": "0c583529-3c05-42ce-b746-66a0c2c2ef88"
      },
      "execution_count": null,
      "outputs": [
        {
          "output_type": "display_data",
          "data": {
            "text/plain": [
              "<Figure size 1080x576 with 2 Axes>"
            ],
            "image/png": "[encoded data removed]"
          },
          "metadata": {}
        }
      ]
    },
    {
      "cell_type": "markdown",
      "source": [
        "**Rating of the Wines**"
      ],
      "metadata": {
        "id": "9eHdE-Wc0RVQ"
      }
    },
    {
      "cell_type": "code",
      "source": [
        "catData['STARS'].value_counts().plot(kind='bar')"
      ],
      "metadata": {
        "colab": {
          "base_uri": "https://localhost:8080/",
          "height": 510
        },
        "id": "c1YEmNxglabm",
        "outputId": "38e9c192-8982-4673-9883-ce5349a8066b"
      },
      "execution_count": null,
      "outputs": [
        {
          "output_type": "execute_result",
          "data": {
            "text/plain": [
              "<matplotlib.axes._subplots.AxesSubplot at 0x7f4e61df5b90>"
            ]
          },
          "metadata": {},
          "execution_count": 213
        },
        {
          "output_type": "display_data",
          "data": {
            "text/plain": [
              "<Figure size 1080x576 with 1 Axes>"
            ],
            "image/png": "[encoded data removed]"
          },
          "metadata": {}
        }
      ]
    },
    {
      "cell_type": "markdown",
      "source": [
        "**Number of Cases of Wine Sold**"
      ],
      "metadata": {
        "id": "jH2mV0vbmePz"
      }
    },
    {
      "cell_type": "code",
      "source": [
        "catData['TARGET'].value_counts().plot(kind='bar')"
      ],
      "metadata": {
        "colab": {
          "base_uri": "https://localhost:8080/",
          "height": 499
        },
        "id": "spM7-_FSmsF2",
        "outputId": "8d0e158b-2139-4563-f7af-948715638445"
      },
      "execution_count": null,
      "outputs": [
        {
          "output_type": "execute_result",
          "data": {
            "text/plain": [
              "<matplotlib.axes._subplots.AxesSubplot at 0x7f4e6922e650>"
            ]
          },
          "metadata": {},
          "execution_count": 203
        },
        {
          "output_type": "display_data",
          "data": {
            "text/plain": [
              "<Figure size 1080x576 with 1 Axes>"
            ],
            "image/png": "[encoded data removed]"
          },
          "metadata": {}
        }
      ]
    },
    {
      "cell_type": "markdown",
      "source": [
        "**Label Appeal**"
      ],
      "metadata": {
        "id": "jXLUkSOom_Sa"
      }
    },
    {
      "cell_type": "code",
      "source": [
        "catData['LabelAppeal'].value_counts().plot(kind='line')"
      ],
      "metadata": {
        "colab": {
          "base_uri": "https://localhost:8080/",
          "height": 502
        },
        "id": "Xr_DsoiFnF1x",
        "outputId": "70b05688-1217-48c6-f3a1-86ef0cac59cc"
      },
      "execution_count": null,
      "outputs": [
        {
          "output_type": "execute_result",
          "data": {
            "text/plain": [
              "<matplotlib.axes._subplots.AxesSubplot at 0x7f4e67b625d0>"
            ]
          },
          "metadata": {},
          "execution_count": 204
        },
        {
          "output_type": "display_data",
          "data": {
            "text/plain": [
              "<Figure size 1080x576 with 1 Axes>"
            ],
            "image/png": "[encoded data removed]"
          },
          "metadata": {}
        }
      ]
    },
    {
      "cell_type": "markdown",
      "source": [
        "#Conclusion#"
      ],
      "metadata": {
        "id": "I1WIfhHy2XYL"
      }
    },
    {
      "cell_type": "markdown",
      "source": [
        "**Review and Closing Remarks:**\n",
        "\n",
        "The interplay between the free and total sulfur dioxide is an interesting and complex topic to explore. There might have to be modifications with the Residual Sugar attribute because there is no universal consensus in what constitutes as very sweet. Removing the nonsensical data (i.e sub-0 for the lower range and astronomically high figures for the upper range) is a solid step. Improving domain literacy in the area of wine is also a must. \n",
        "\n",
        "It is a work in progress but revisiting this dataset and notebook with some more tools in the DS toolbelt might be the catalyst for some interesting insights into this robust dataset.  "
      ],
      "metadata": {
        "id": "EnvPrvYX0v8R"
      }
    },
    {
      "cell_type": "markdown",
      "source": [
        "##Resources##\n",
        "\n",
        "Here is a list of resources that I used throughout the assignment:\n",
        "https://www.udemy.com/course/python-for-all-with-a-focus-on-financial-applications/learn/lecture/24099026#overview\n",
        "\n",
        "https://stackoverflow.com/questions/33889310/r-summary-equivalent-in-numpy\n",
        "\n",
        "https://www.geeksforgeeks.org/replace-nan-values-with-zeros-in-pandas-dataframe/\n",
        "\n",
        "https://www.delftstack.com/howto/python-pandas/how-to-filter-dataframe-rows-based-on-column-values-in-pandas/#:~:text=are%20not%20300%20.-,Select%20Pandas%20Rows%20With%20Column%20Values%20Greater%20Than%20or%20Smaller,while%20creating%20masks%20or%20queries.&text=This%20results%20in%20DataFrame%20with,than%20or%20equal%20to%20300%20.\n",
        "\n",
        "https://queirozf.com/entries/pandas-dataframe-plot-examples-with-matplotlib-pyplot\n",
        "\n",
        "https://www.delftstack.com/howto/seaborn/size-of-seaborn-heatmap/\n",
        "\n",
        "https://stackoverflow.com/questions/31029560/plotting-categorical-data-with-pandas-and-matplotlib"
      ],
      "metadata": {
        "id": "am4InDct2p10"
      }
    }
  ]
}